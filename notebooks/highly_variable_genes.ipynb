{
 "cells": [
  {
   "cell_type": "code",
   "execution_count": 1,
   "id": "b4af20a1",
   "metadata": {},
   "outputs": [],
   "source": [
    "import pickle\n",
    "import numpy as np\n",
    "import pandas as pd\n",
    "import networkx as nx\n",
    "from pathlib import Path\n",
    "from typing import Dict, Tuple, Optional\n",
    "import torch\n",
    "import scanpy as sc\n",
    "import anndata"
   ]
  },
  {
   "cell_type": "code",
   "execution_count": 2,
   "id": "4a9a88e6",
   "metadata": {},
   "outputs": [],
   "source": [
    "# Data parameters\n",
    "trajectory_file = '../data/trajectories/traj_data.pkl' \n",
    "prior_graph_file='../data/trajectories/cancer_granger_prior_graph_nx_20.pkl'\n",
    "gene_names_file='../data/trajectories/gene_names.txt'\n",
    "n_top_genes = 20  # Number of genes from prior graph to use\n",
    "use_mean_trajectory= True\n"
   ]
  },
  {
   "cell_type": "code",
   "execution_count": 3,
   "id": "46b0b9ab",
   "metadata": {},
   "outputs": [
    {
     "name": "stdout",
     "output_type": "stream",
     "text": [
      "(100, 100, 21465)\n"
     ]
    }
   ],
   "source": [
    "# Load trajectory data from file\n",
    "trajectory_path = Path(trajectory_file)\n",
    "with open(trajectory_path, \"rb\") as f:\n",
    "    trajectories = pickle.load(f)\n",
    "\n",
    "print(trajectories.shape)\n",
    "\n",
    "# Load prior graph from file\n",
    "prior_graph_path = Path(prior_graph_file)\n",
    "with open(prior_graph_path, \"rb\") as f:\n",
    "    prior_graph = pickle.load(f)\n",
    "\n",
    "gene_names_path = Path(gene_names_file)\n",
    "with open(gene_names_path, \"r\") as f:\n",
    "    gene_names = [line.strip() for line in f.readlines()]"
   ]
  },
  {
   "cell_type": "code",
   "execution_count": 4,
   "id": "adeb1342",
   "metadata": {},
   "outputs": [],
   "source": [
    "n_timepoints, n_trajectories, n_genes = trajectories.shape\n",
    "\n",
    "# Select highly variable genes using scanpy\n",
    "# Reshape trajectories to (n_samples, n_genes) for scanpy\n",
    "# Combine timepoints and trajectories into samples dimension\n",
    "entire_trajectory = trajectories.reshape(-1, n_genes)\n",
    "\n",
    "# Create AnnData object for scanpy\n",
    "adata = anndata.AnnData(X=entire_trajectory)\n",
    "adata.var_names = gene_names"
   ]
  },
  {
   "cell_type": "code",
   "execution_count": null,
   "id": "0d95c6a7",
   "metadata": {},
   "outputs": [
    {
     "name": "stdout",
     "output_type": "stream",
     "text": [
      "Identifying 20 highly variable genes.\n"
     ]
    },
    {
     "name": "stderr",
     "output_type": "stream",
     "text": [
      "/Users/joaofelipe/Yale/github_projects/ritini_new/.venv/lib/python3.10/site-packages/scanpy/preprocessing/_highly_variable_genes.py:309: RuntimeWarning: invalid value encountered in log\n",
      "  dispersion = np.log(dispersion)\n"
     ]
    }
   ],
   "source": [
    "print(f\"Identifying {n_top_genes} highly variable genes.\")\n",
    "# Identify highly variable genes\n",
    "sc.pp.highly_variable_genes(\n",
    "    adata,\n",
    "    n_top_genes=n_top_genes\n",
    ")\n"
   ]
  },
  {
   "cell_type": "code",
   "execution_count": 6,
   "id": "d52c32af",
   "metadata": {},
   "outputs": [],
   "source": [
    "# Get indices of highly variable genes\n",
    "selected_genes = np.where(adata.var['highly_variable'])[0]\n",
    "# selected_genes_names = np.where(adata.var['highly_variable'])[0]"
   ]
  },
  {
   "cell_type": "code",
   "execution_count": 7,
   "id": "5f82534f",
   "metadata": {},
   "outputs": [],
   "source": [
    "# \n",
    "filtered_gene_names = adata.var_names[selected_genes]\n",
    "# Filter trajectories to selected genes\n",
    "filtered_trajectories = trajectories[:, :, selected_genes]\n",
    "\n",
    "# Extract node features\n",
    "if use_mean_trajectory:\n",
    "    node_features = torch.tensor(\n",
    "        filtered_trajectories.mean(axis=1),\n",
    "        dtype=torch.float32\n",
    "    )  # Shape: (n_timepoints, n_top_genes)\n",
    "else:\n",
    "    node_features = torch.tensor(\n",
    "        filtered_trajectories,\n",
    "        dtype=torch.float32\n",
    "    )  # Shape: (n_timepoints, n_trajectories, n_top_genes)\n",
    "\n",
    "# Convert prior graph to adjacency matrix\n",
    "n_nodes = len(prior_graph.nodes())\n",
    "prior_adjacency = torch.zeros(n_nodes, n_nodes)\n",
    "for edge in prior_graph.edges():\n",
    "    prior_adjacency[edge[0], edge[1]] = 1\n",
    "    prior_adjacency[edge[1], edge[0]] = 1  # Symmetric"
   ]
  },
  {
   "cell_type": "code",
   "execution_count": 8,
   "id": "7d758531",
   "metadata": {},
   "outputs": [
    {
     "data": {
      "text/plain": [
       "Index(['ID3', 'ODF2L', 'LAPTM4A', 'IGFBP5', 'HLA-C', 'NPTX2', 'SAT1', 'TIMP1',\n",
       "       'MSMP', 'ACTA2', 'MGP', 'KRT7', 'KRT81', 'KRT19', 'APLP1', 'APOE',\n",
       "       'TTYH1', 'COL6A1', 'COL6A2', 'MT-ND3'],\n",
       "      dtype='object')"
      ]
     },
     "execution_count": 8,
     "metadata": {},
     "output_type": "execute_result"
    }
   ],
   "source": [
    "filtered_gene_names"
   ]
  }
 ],
 "metadata": {
  "kernelspec": {
   "display_name": "ritini-new",
   "language": "python",
   "name": "python3"
  },
  "language_info": {
   "codemirror_mode": {
    "name": "ipython",
    "version": 3
   },
   "file_extension": ".py",
   "mimetype": "text/x-python",
   "name": "python",
   "nbconvert_exporter": "python",
   "pygments_lexer": "ipython3",
   "version": "3.10.18"
  }
 },
 "nbformat": 4,
 "nbformat_minor": 5
}
