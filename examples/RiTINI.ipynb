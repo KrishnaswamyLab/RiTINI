{
  "cells": [
    {
      "cell_type": "markdown",
      "metadata": {
        "id": "F_RGwSBjNhBx"
      },
      "source": [
        "# RITINI: Inferring Dynamic Regulatory Interaction Graphs from Time Series Data with Perturbations\n",
        "\n",
        "Prerequisites:\n",
        "- Trained MIOFlow and decoded trajectories back to gene space.\n",
        "\n",
        "In this notebook we will:\n",
        "- Run RITINI to infer gene dynamics in gene regulatory networks"
      ]
    },
    {
      "cell_type": "code",
      "execution_count": 1,
      "metadata": {
        "colab": {
          "base_uri": "https://localhost:8080/"
        },
        "id": "9pqr3QQKq8Id",
        "outputId": "df5614f0-ec3a-4294-dd68-6b5f7218eab9"
      },
      "outputs": [],
      "source": [
        "# Standard library imports\n",
        "import warnings\n",
        "from sklearn.preprocessing import StandardScaler\n",
        "import matplotlib.pyplot as plt\n",
        "import networkx as nx\n",
        "import numpy as np\n",
        "import pandas as pd\n",
        "import torch\n",
        "\n",
        "from torch.optim.lr_scheduler import StepLR\n",
        "\n",
        "\n",
        "# Suppress specific warnings\n",
        "warnings.filterwarnings(\n",
        "    \"ignore\",\n",
        "    category=FutureWarning,\n",
        "    message=\".*unique with argument that is not not a Series.*\"\n",
        ")"
      ]
    },
    {
      "cell_type": "code",
      "execution_count": 2,
      "metadata": {
        "id": "GS4wneT7x6qW"
      },
      "outputs": [],
      "source": [
        "device = 'cuda' if torch.cuda.is_available() else 'cpu'\n",
        "\n",
        "torch.backends.cudnn.deterministic = True\n",
        "torch.backends.cudnn.benchmark = False\n",
        "\n",
        "seed = 3\n",
        "torch.manual_seed(seed)\n",
        "np.random.seed(seed)"
      ]
    },
    {
      "cell_type": "markdown",
      "metadata": {
        "id": "jP_AJjUqNrRZ"
      },
      "source": [
        "# Load and Preprocess Dataset\n",
        "\n",
        "Load the dataset (output from MIOFlow) of shape ((n_timepoints, n_trajectrories, n_genes))"
      ]
    },
    {
      "cell_type": "code",
      "execution_count": 3,
      "metadata": {
        "id": "MZ2rhT4vx9jE"
      },
      "outputs": [],
      "source": [
        "import pickle\n",
        "\"\"\"\n",
        "Load MIOFlow inferred trajectories.\n",
        "Shape (n_timepoints, n_trajectrories, n_genes)\n",
        "\"\"\"\n",
        "\n",
        "with open('../data/trajectories/traj_data.pkl', 'rb') as f:\n",
        "    traj_data = pickle.load(f)\n",
        "trajectories = traj_data\n",
        "\"\"\"\n",
        "Load gene names for plotting purposes\n",
        "Shape (n_genes,)\n",
        "\"\"\"\n",
        "\n",
        "with open('../data/trajectories/genes_data.pkl', 'rb') as f:\n",
        "    genes = pickle.load(f)\n",
        "genes = pd.Series(genes).astype(str) \\\n",
        "        .str.replace(r'\\s*\\(ENSG[^\\)]*\\)', '', regex=True) \\\n",
        "        .to_numpy()\n",
        "\"\"\"\n",
        "Annotations are clusters of trajectories for a specific lineage. Here we assume just one set of trajectories.\n",
        "All labeled as 0.\n",
        "\"\"\"\n",
        "annotations = np.zeros(trajectories.shape[0])\n",
        "\n",
        "\"\"\"\n",
        "For simplicity, we will just train on the mean trajectory.\n",
        "\"\"\"\n",
        "mean_trajectories = trajectories.mean(axis=1, keepdims=True)\n",
        "\n",
        "traj_data = {\n",
        "    'trajectories': mean_trajectories,\n",
        "    'genes': genes,\n",
        "    'annotations': annotations\n",
        "}\n",
        "\n",
        "\n",
        "with open('../data/trajectories/cancer_granger_prior_graph_nx_20.pkl', 'rb') as f:\n",
        "    G = pickle.load(f)\n",
        "\n",
        "with open('../data/trajectories/cancer_granger_prior_top_genes_20.pkl', 'rb') as f:\n",
        "    top_genes = pickle.load(f)\n"
      ]
    },
    {
      "cell_type": "code",
      "execution_count": 4,
      "metadata": {
        "id": "C1lb4PUx4qyf"
      },
      "outputs": [],
      "source": [
        "\"\"\"\n",
        "Create the adjacency matrix.\n",
        "\"\"\"\n",
        "adjacency_matrix = nx.adjacency_matrix(G)\n",
        "\n",
        "edges = list(G.edges())\n",
        "if len(edges) > 0:\n",
        "    u, v = np.array(edges).T\n",
        "    u = torch.tensor(u, dtype=torch.int32)\n",
        "    v = torch.tensor(v, dtype=torch.int32)\n",
        "else:\n",
        "    u = v = torch.tensor([], dtype=torch.int32)"
      ]
    },
    {
      "cell_type": "code",
      "execution_count": 5,
      "metadata": {},
      "outputs": [
        {
          "data": {
            "text/plain": [
              "<networkx.classes.digraph.DiGraph at 0x13750ae90>"
            ]
          },
          "execution_count": 5,
          "metadata": {},
          "output_type": "execute_result"
        }
      ],
      "source": [
        "G"
      ]
    },
    {
      "cell_type": "code",
      "execution_count": 6,
      "metadata": {},
      "outputs": [],
      "source": [
        "ref_pos = nx.spring_layout(G.to_undirected(), seed=seed)\n",
        "top_genes_for_plotting = top_genes[:10]\n",
        "# Color and label\n",
        "for idx, node in enumerate(G.nodes()):\n",
        "    G.nodes[node]['color'] = plt.get_cmap('viridis', len(top_genes))(idx)\n",
        "    G.nodes[node]['label'] = top_genes[idx]"
      ]
    },
    {
      "cell_type": "code",
      "execution_count": 7,
      "metadata": {
        "id": "dPJP4WDk4sk6"
      },
      "outputs": [],
      "source": [
        "# \"\"\"\n",
        "# \"\"\"\n",
        "# # Mapping for edge ids\n",
        "edge_ids = np.arange(G.number_of_edges())\n",
        "\n",
        "# # Shuffle\n",
        "edge_ids = np.random.permutation(edge_ids)\n",
        "\n",
        "test_size_percent = 30\n",
        "test_size_fraction = test_size_percent / 100\n",
        "\n",
        "edge_test_size = int(len(edge_ids) * test_size_fraction)\n"
      ]
    },
    {
      "cell_type": "code",
      "execution_count": 8,
      "metadata": {
        "id": "75aCHSflp656"
      },
      "outputs": [],
      "source": [
        "top_genes = [gene.replace('_y', '') for gene in top_genes]"
      ]
    },
    {
      "cell_type": "markdown",
      "metadata": {
        "id": "Zk0yL-m9NxZ6"
      },
      "source": [
        "# Train RiTINI\n",
        "- Saves plots of the ground truth dynamics vs predicted dynamics"
      ]
    },
    {
      "cell_type": "code",
      "execution_count": 9,
      "metadata": {
        "id": "HFYNt6ce4uF8"
      },
      "outputs": [],
      "source": [
        "seen = set()\n",
        "gene_subset_indices = []\n",
        "for i, k in enumerate(traj_data['genes']):\n",
        "    if k in top_genes and k not in seen:\n",
        "        seen.add(k)\n",
        "        gene_subset_indices.append(i)\n",
        "gene_subset_indices = np.array(gene_subset_indices)\n",
        "\n",
        "cell_subset_indices = np.random.choice(traj_data['trajectories'].shape[1], traj_data['trajectories'].shape[1], replace=False)"
      ]
    },
    {
      "cell_type": "code",
      "execution_count": 10,
      "metadata": {
        "colab": {
          "base_uri": "https://localhost:8080/"
        },
        "id": "_Q8Isgnkihj8",
        "outputId": "057f991a-0a10-4e26-d657-d7f4290844af"
      },
      "outputs": [
        {
          "data": {
            "text/plain": [
              "(21465,)"
            ]
          },
          "execution_count": 10,
          "metadata": {},
          "output_type": "execute_result"
        }
      ],
      "source": [
        "traj_data['genes'].shape"
      ]
    },
    {
      "cell_type": "code",
      "execution_count": 11,
      "metadata": {
        "id": "HKbczss94v-f"
      },
      "outputs": [],
      "source": [
        "trajs = traj_data['trajectories']\n",
        "trajs = trajs[::3]\n",
        "trajs = trajs[:, cell_subset_indices]\n",
        "trajs = trajs[:, :, gene_subset_indices]\n",
        "traj_f = trajs.reshape(-1, trajs.shape[2])"
      ]
    },
    {
      "cell_type": "markdown",
      "metadata": {
        "id": "n51YJ3mPN0dr"
      },
      "source": [
        "Here we construct pseudotime and cell type annotations for training the dynamic graph model RiTINI"
      ]
    },
    {
      "cell_type": "code",
      "execution_count": 12,
      "metadata": {
        "id": "y-LG8JI04xcH"
      },
      "outputs": [],
      "source": [
        "pseudotimes = np.linspace(0, 1, trajs.shape[0])"
      ]
    },
    {
      "cell_type": "code",
      "execution_count": 13,
      "metadata": {
        "id": "UeIpy_6H4y1v"
      },
      "outputs": [],
      "source": [
        "annot_repeated = np.repeat(traj_data['annotations'][cell_subset_indices], trajs.shape[0])\n",
        "pt_repeated = np.tile(pseudotimes, trajs.shape[1])\n",
        "df = pd.DataFrame(traj_f, columns=top_genes, index=[f'cell_{i}' for i in range(traj_f.shape[0])])\n",
        "df['pseudotime'] = pt_repeated\n",
        "\n",
        "df['cell_types'] = [f'cell_type_{a}' for a in annot_repeated]\n",
        "num_cell_types = len(df['cell_types'].unique())"
      ]
    },
    {
      "cell_type": "code",
      "execution_count": 14,
      "metadata": {
        "id": "RbMy4V1740r8"
      },
      "outputs": [],
      "source": [
        "\n",
        "df_train = df.sample(frac=85/100)\n",
        "df_test = df.loc[~df.index.isin(df_train.index)]"
      ]
    },
    {
      "cell_type": "code",
      "execution_count": 15,
      "metadata": {
        "id": "aIQQKghC42AK"
      },
      "outputs": [],
      "source": [
        "n_cells_at_t = df['pseudotime'].value_counts()[0]\n",
        "\n",
        "time_bins = np.sort(df.pseudotime.unique())\n",
        "cell_types = np.sort(df.cell_types.unique())\n",
        "\n",
        "t0, *_, tn = time_bins\n",
        "time_tensor = torch.Tensor(time_bins)#.to(device)\n",
        "\n",
        "in_feats = cell_types.size * n_cells_at_t\n",
        "out_feats = cell_types.size * n_cells_at_t\n",
        "df_train[top_genes] = StandardScaler().fit_transform(df_train[top_genes])\n"
      ]
    },
    {
      "cell_type": "markdown",
      "metadata": {
        "id": "sXaRlc3WN4vO"
      },
      "source": [
        "We now initialize the RITINI module and define the training hyperparameters, which can be adjusted based on experimental needs."
      ]
    },
    {
      "cell_type": "markdown",
      "metadata": {},
      "source": [
        "# Setting up RiTINI"
      ]
    },
    {
      "cell_type": "code",
      "execution_count": null,
      "metadata": {},
      "outputs": [],
      "source": [
        "config = {\n",
        "    # Model configuration\n",
        "    'model_type': 'gcn',  # or 'gat', 'gde'\n",
        "    'in_feats': in_feats,  # cell_types.size *  n_cells_at_t\n",
        "    'out_feats': out_feats,  # cell_types.size * n_cells_at_t\n",
        "    'device': 'cpu',  # or 'cuda' if available\n",
        "\n",
        "    # Training parameters\n",
        "    'epochs': 100,\n",
        "    'learning_rate': 0.1,\n",
        "    'weight_decay': 5e-4,\n",
        "    'step_size': 350,\n",
        "    'gamma': 0.1,\n",
        "\n",
        "    # Training loop parameters\n",
        "    'steps': 100,\n",
        "    'verbose_step': 1,\n",
        "    'link_step': 2,\n",
        "    'add_n': 5,\n",
        "    'del_n': 5,\n",
        "    'sample_size': 10,\n",
        "    'lambda_l1': 10,\n",
        "\n",
        "    # Data parameters\n",
        "    'n_cells_at_t': n_cells_at_t,\n",
        "    'num_cell_types': num_cell_types,\n",
        "    'test_size_percent': 30,\n",
        "\n",
        "    # Paths\n",
        "    'data_dir': 'data/trajectories',\n",
        "    'output_path': 'outputs'\n",
        "}"
      ]
    },
    {
      "cell_type": "code",
      "execution_count": 34,
      "metadata": {},
      "outputs": [],
      "source": [
        "import RiTINI\n",
        "model = RiTINI.RiTINI(config=config)"
      ]
    },
    {
      "cell_type": "code",
      "execution_count": null,
      "metadata": {},
      "outputs": [],
      "source": []
    },
    {
      "cell_type": "code",
      "execution_count": 32,
      "metadata": {},
      "outputs": [
        {
          "name": "stderr",
          "output_type": "stream",
          "text": [
            "2025-09-26 13:41:21,826 - RiTINI.ritini - INFO - Starting training with model: gat\n",
            "2025-09-26 13:41:21,828 - RiTINI.ritini - INFO - Loading training data...\n",
            "2025-09-26 13:41:21,829 - RiTINI.ritini - INFO - Initializing gat model...\n",
            "2025-09-26 13:41:21,829 - RiTINI.ritini - INFO - Starting training...\n",
            "2025-09-26 13:41:21,830 - RiTINI.ritini - INFO - Training completed successfully!\n"
          ]
        }
      ],
      "source": [
        "# Train the model\n",
        "model.train(\n",
        "    data_path=\"single_cell_data.csv\",\n",
        "    model_type=\"gat\",\n",
        "    epochs=100,\n",
        "    learning_rate=0.001\n",
        ")"
      ]
    },
    {
      "cell_type": "code",
      "execution_count": 25,
      "metadata": {
        "id": "GHPkxKlE43aF"
      },
      "outputs": [
        {
          "ename": "TypeError",
          "evalue": "RiTINI.__init__() takes from 1 to 2 positional arguments but 5 were given",
          "output_type": "error",
          "traceback": [
            "\u001b[0;31m---------------------------------------------------------------------------\u001b[0m",
            "\u001b[0;31mTypeError\u001b[0m                                 Traceback (most recent call last)",
            "Cell \u001b[0;32mIn[25], line 3\u001b[0m\n\u001b[1;32m      1\u001b[0m \u001b[38;5;28;01mimport\u001b[39;00m\u001b[38;5;250m \u001b[39m\u001b[38;5;21;01mRiTINI\u001b[39;00m \n\u001b[1;32m      2\u001b[0m \u001b[38;5;66;03m# Create RITINI instance first\u001b[39;00m\n\u001b[0;32m----> 3\u001b[0m graph_trainer \u001b[38;5;241m=\u001b[39m \u001b[43mRiTINI\u001b[49m\u001b[38;5;241;43m.\u001b[39;49m\u001b[43mRiTINI\u001b[49m\u001b[43m(\u001b[49m\u001b[43mG\u001b[49m\u001b[43m,\u001b[49m\u001b[43m \u001b[49m\u001b[43min_feats\u001b[49m\u001b[43m,\u001b[49m\u001b[43m \u001b[49m\u001b[43mout_feats\u001b[49m\u001b[43m,\u001b[49m\u001b[43m \u001b[49m\u001b[43mdevice\u001b[49m\u001b[43m)\u001b[49m\n\u001b[1;32m      4\u001b[0m \u001b[38;5;66;03m# Initialize the model\u001b[39;00m\n\u001b[1;32m      5\u001b[0m model \u001b[38;5;241m=\u001b[39m graph_trainer\u001b[38;5;241m.\u001b[39mmodel\n",
            "\u001b[0;31mTypeError\u001b[0m: RiTINI.__init__() takes from 1 to 2 positional arguments but 5 were given"
          ]
        }
      ],
      "source": [
        "import RiTINI \n",
        "# Create RITINI instance first\n",
        "graph_trainer = RiTINI.RiTINI(G, in_feats, out_feats, device)\n",
        "# Initialize the model\n",
        "model = graph_trainer.model\n",
        "device = 'cpu'\n",
        "model = model.to(device)\n",
        "# Call the train_test method on the instance\n",
        "train_g = graph_trainer.train_test(\n",
        "    edge_ids, edge_test_size\n",
        ")"
      ]
    },
    {
      "cell_type": "code",
      "execution_count": 20,
      "metadata": {
        "id": "SgiRCwud44zv"
      },
      "outputs": [],
      "source": [
        "\"\"\"\n",
        "Hyperparameters for training\n",
        "\"\"\"\n",
        "optimizer = torch.optim.AdamW(model.parameters(), lr=0.1, weight_decay=5e-4)\n",
        "scheduler = StepLR(optimizer, step_size=350, gamma=0.1)\n",
        "criterion = torch.nn.MSELoss()\n",
        "\n",
        "steps = 100\n",
        "verbose_step = 1\n",
        "\n",
        "lambda_l1 = 10\n",
        "add_n = 5\n",
        "del_n = 5\n",
        "link_step = 2\n",
        "sample_size = 10"
      ]
    },
    {
      "cell_type": "markdown",
      "metadata": {
        "id": "MLqB7vrGN8hX"
      },
      "source": [
        "Load the model and train RITINI, which will generate plots of predicted vs. ground truth gene expression dynamics, saved in the Results/ folder."
      ]
    },
    {
      "cell_type": "code",
      "execution_count": 21,
      "metadata": {
        "colab": {
          "base_uri": "https://localhost:8080/"
        },
        "id": "x88VF1qx46Qw",
        "outputId": "a627a411-1bef-4a4b-942a-bff9cf89df7c"
      },
      "outputs": [
        {
          "name": "stdout",
          "output_type": "stream",
          "text": [
            "Dynamics Prediction loss: 0.27714046835899353\n",
            "Dynamics Prediction loss: 0.27679741382598877\n",
            "Dynamics Prediction loss: 0.27669191360473633\n",
            "Dynamics Prediction loss: 0.2766408920288086\n",
            "Dynamics Prediction loss: 0.27660971879959106\n",
            "Dynamics Prediction loss: 0.2765827476978302\n",
            "Dynamics Prediction loss: 0.2765650153160095\n",
            "Dynamics Prediction loss: 0.27655354142189026\n",
            "Dynamics Prediction loss: 0.2765420079231262\n",
            "Dynamics Prediction loss: 0.27653568983078003\n",
            "Dynamics Prediction loss: 0.2765243649482727\n",
            "Dynamics Prediction loss: 0.27652519941329956\n",
            "Dynamics Prediction loss: 0.2765128016471863\n",
            "Dynamics Prediction loss: 0.27651914954185486\n",
            "Dynamics Prediction loss: 0.2765093445777893\n",
            "Dynamics Prediction loss: 0.2765124440193176\n",
            "Dynamics Prediction loss: 0.27650386095046997\n",
            "Dynamics Prediction loss: 0.27650687098503113\n",
            "Dynamics Prediction loss: 0.27649930119514465\n",
            "Dynamics Prediction loss: 0.2765020728111267\n",
            "Dynamics Prediction loss: 0.2764952778816223\n",
            "Dynamics Prediction loss: 0.2764977812767029\n",
            "Dynamics Prediction loss: 0.27649176120758057\n",
            "Dynamics Prediction loss: 0.27649402618408203\n",
            "Dynamics Prediction loss: 0.27648845314979553\n",
            "Dynamics Prediction loss: 0.276490718126297\n",
            "Dynamics Prediction loss: 0.2764856219291687\n",
            "Dynamics Prediction loss: 0.27648770809173584\n",
            "Dynamics Prediction loss: 0.2764829993247986\n",
            "Dynamics Prediction loss: 0.27648496627807617\n",
            "Dynamics Prediction loss: 0.2764805853366852\n",
            "Dynamics Prediction loss: 0.276482492685318\n",
            "Dynamics Prediction loss: 0.27647843956947327\n",
            "Dynamics Prediction loss: 0.27648016810417175\n",
            "Dynamics Prediction loss: 0.27647632360458374\n",
            "Dynamics Prediction loss: 0.2764780521392822\n",
            "Dynamics Prediction loss: 0.2764744758605957\n",
            "Dynamics Prediction loss: 0.27647605538368225\n",
            "Dynamics Prediction loss: 0.27647268772125244\n",
            "Dynamics Prediction loss: 0.276474267244339\n",
            "Dynamics Prediction loss: 0.2764710485935211\n",
            "Dynamics Prediction loss: 0.2764725089073181\n",
            "Dynamics Prediction loss: 0.27646946907043457\n",
            "Dynamics Prediction loss: 0.27647092938423157\n",
            "Dynamics Prediction loss: 0.27646809816360474\n",
            "Dynamics Prediction loss: 0.2764694094657898\n",
            "Dynamics Prediction loss: 0.2764666676521301\n",
            "Dynamics Prediction loss: 0.2764680087566376\n",
            "Dynamics Prediction loss: 0.27646541595458984\n",
            "Dynamics Prediction loss: 0.2764666974544525\n",
            "Dynamics Prediction loss: 0.27646416425704956\n",
            "Dynamics Prediction loss: 0.27646541595458984\n",
            "Dynamics Prediction loss: 0.27646303176879883\n",
            "Dynamics Prediction loss: 0.27646422386169434\n",
            "Dynamics Prediction loss: 0.2764618992805481\n",
            "Dynamics Prediction loss: 0.2764630913734436\n",
            "Dynamics Prediction loss: 0.2764608860015869\n",
            "Dynamics Prediction loss: 0.27646195888519287\n",
            "Dynamics Prediction loss: 0.27645981311798096\n",
            "Dynamics Prediction loss: 0.27646100521087646\n",
            "Dynamics Prediction loss: 0.2764589488506317\n",
            "Dynamics Prediction loss: 0.2764599621295929\n",
            "Dynamics Prediction loss: 0.2764579653739929\n",
            "Dynamics Prediction loss: 0.27645909786224365\n",
            "Dynamics Prediction loss: 0.27645716071128845\n",
            "Dynamics Prediction loss: 0.27645817399024963\n",
            "Dynamics Prediction loss: 0.2764562666416168\n",
            "Dynamics Prediction loss: 0.2764573395252228\n",
            "Dynamics Prediction loss: 0.2764555513858795\n",
            "Dynamics Prediction loss: 0.27645644545555115\n",
            "Dynamics Prediction loss: 0.27645471692085266\n",
            "Dynamics Prediction loss: 0.27645570039749146\n",
            "Dynamics Prediction loss: 0.27645400166511536\n",
            "Dynamics Prediction loss: 0.2764549255371094\n",
            "Dynamics Prediction loss: 0.27645325660705566\n",
            "Dynamics Prediction loss: 0.2764541804790497\n",
            "Dynamics Prediction loss: 0.2764526605606079\n",
            "Dynamics Prediction loss: 0.27645349502563477\n",
            "Dynamics Prediction loss: 0.276451975107193\n",
            "Dynamics Prediction loss: 0.27645280957221985\n",
            "Dynamics Prediction loss: 0.27645131945610046\n",
            "Dynamics Prediction loss: 0.2764521539211273\n",
            "Dynamics Prediction loss: 0.2764506936073303\n",
            "Dynamics Prediction loss: 0.27645155787467957\n",
            "Dynamics Prediction loss: 0.27645015716552734\n",
            "Dynamics Prediction loss: 0.2764509320259094\n",
            "Dynamics Prediction loss: 0.2764495313167572\n",
            "Dynamics Prediction loss: 0.27645036578178406\n",
            "Dynamics Prediction loss: 0.2764490246772766\n",
            "Dynamics Prediction loss: 0.2764497995376587\n",
            "Dynamics Prediction loss: 0.27644845843315125\n",
            "Dynamics Prediction loss: 0.2764492630958557\n",
            "Dynamics Prediction loss: 0.27644798159599304\n",
            "Dynamics Prediction loss: 0.27644869685173035\n",
            "Dynamics Prediction loss: 0.27644744515419006\n",
            "Dynamics Prediction loss: 0.27644819021224976\n",
            "Dynamics Prediction loss: 0.27644699811935425\n",
            "Dynamics Prediction loss: 0.27644771337509155\n",
            "Dynamics Prediction loss: 0.27644652128219604\n",
            "Dynamics Prediction loss: 0.27644726634025574\n"
          ]
        }
      ],
      "source": [
        "graph_trainer.train_loop(\n",
        "        model, optimizer, scheduler, criterion, top_genes,\n",
        "        train_g, df_train, n_cells_at_t, time_bins, steps, link_step, add_n, del_n,\n",
        "        verbose_step, num_cell_types, cell_types, ref_pos, ref_g, DATA_DIR='/content')"
      ]
    },
    {
      "cell_type": "code",
      "execution_count": 22,
      "metadata": {
        "colab": {
          "base_uri": "https://localhost:8080/"
        },
        "id": "BwMVb9K_yvSq",
        "outputId": "ae83ef64-b73a-4faa-85fb-9f0a33d407ae"
      },
      "outputs": [
        {
          "data": {
            "text/plain": [
              "['g',\n",
              " 'in_feats',\n",
              " 'out_feats',\n",
              " 'device',\n",
              " 'model',\n",
              " '__module__',\n",
              " '__init__',\n",
              " '_build_model',\n",
              " 'train_test',\n",
              " 'train_loop',\n",
              " 'test_loop',\n",
              " '__dict__',\n",
              " '__weakref__',\n",
              " '__doc__',\n",
              " '__new__',\n",
              " '__repr__',\n",
              " '__hash__',\n",
              " '__str__',\n",
              " '__getattribute__',\n",
              " '__setattr__',\n",
              " '__delattr__',\n",
              " '__lt__',\n",
              " '__le__',\n",
              " '__eq__',\n",
              " '__ne__',\n",
              " '__gt__',\n",
              " '__ge__',\n",
              " '__reduce_ex__',\n",
              " '__reduce__',\n",
              " '__getstate__',\n",
              " '__subclasshook__',\n",
              " '__init_subclass__',\n",
              " '__format__',\n",
              " '__sizeof__',\n",
              " '__dir__',\n",
              " '__class__']"
            ]
          },
          "execution_count": 22,
          "metadata": {},
          "output_type": "execute_result"
        }
      ],
      "source": [
        "graph_trainer.__dir__()"
      ]
    }
  ],
  "metadata": {
    "colab": {
      "provenance": []
    },
    "kernelspec": {
      "display_name": "RiTINI",
      "language": "python",
      "name": "python3"
    },
    "language_info": {
      "codemirror_mode": {
        "name": "ipython",
        "version": 3
      },
      "file_extension": ".py",
      "mimetype": "text/x-python",
      "name": "python",
      "nbconvert_exporter": "python",
      "pygments_lexer": "ipython3",
      "version": "3.10.18"
    }
  },
  "nbformat": 4,
  "nbformat_minor": 0
}
