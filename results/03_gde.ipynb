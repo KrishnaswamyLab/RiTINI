{
 "cells": [
  {
   "cell_type": "markdown",
   "metadata": {},
   "source": [
    "# GDE\n",
    "\n",
    "> Started with initial copy-paste of [torchgde][torchgde]\n",
    "\n",
    "[torchgde]: https://github.com/Zymrael/gde/blob/master/torchgde/models/gde.py"
   ]
  },
  {
   "cell_type": "code",
   "execution_count": null,
   "metadata": {},
   "outputs": [],
   "source": [
    "#| default_exp gde"
   ]
  },
  {
   "cell_type": "code",
   "execution_count": null,
   "metadata": {},
   "outputs": [],
   "source": [
    "#| hide\n",
    "from nbdev.showdoc import *"
   ]
  },
  {
   "cell_type": "code",
   "execution_count": null,
   "metadata": {},
   "outputs": [],
   "source": [
    "#| export\n",
    "\n",
    "import dgl\n",
    "import torch, torch.nn as nn\n",
    "from gode.gcn import GCNLayer\n",
    "from gode.data import augment_with_time\n",
    "from typing import Callable\n",
    "\n",
    "\n",
    "class GDEFunc(nn.Module):\n",
    "    def __init__(\n",
    "        self, \n",
    "        gnn:nn.Module, \n",
    "        augment:bool=False, \n",
    "        augment_size:int=2\n",
    "    ):\n",
    "        \"\"\"General GDE function class. To be passed to an ODEBlock\"\"\"\n",
    "        super().__init__()\n",
    "        self.gnn = gnn\n",
    "        \n",
    "        # Number of function calls\n",
    "        self.nfe = 0\n",
    "        \n",
    "        # Whether or not to augment input tensor x\n",
    "        self.augment = augment\n",
    "        \n",
    "        # Dimensions of 0s to augment x with (as well as the time vector t)\n",
    "        self.augment_size = augment_size\n",
    "    \n",
    "    def set_graph(self, g:dgl.DGLGraph):\n",
    "        for layer in self.gnn:\n",
    "            layer.g = g\n",
    "            \n",
    "    def forward(self, t, x):\n",
    "        self.nfe += 1\n",
    "        \n",
    "        x = augment_with_time(x, t, self.augment_size, self.augment)  \n",
    "        \n",
    "        # NOTE: technically dxdt\n",
    "        x = self.gnn(x)\n",
    "        return x"
   ]
  },
  {
   "cell_type": "code",
   "execution_count": null,
   "metadata": {},
   "outputs": [],
   "source": [
    "#| export\n",
    " \n",
    "class ControlledGDEFunc(GDEFunc):\n",
    "    def __init__(self, gnn:nn.Module):\n",
    "        \"\"\" Controlled GDE version. Input information is preserved longer via hooks to input node features X_0, \n",
    "            affecting all ODE function steps. Requires assignment of '.h0' before calling .forward\"\"\"\n",
    "        super().__init__(gnn)\n",
    "        self.nfe = 0\n",
    "            \n",
    "    def forward(self, t, x):\n",
    "        self.nfe += 1\n",
    "        x = torch.cat([x, self.h0], 1)\n",
    "        x = self.gnn(x)\n",
    "        return x\n",
    "    "
   ]
  },
  {
   "cell_type": "code",
   "execution_count": null,
   "metadata": {},
   "outputs": [],
   "source": [
    "#| export\n",
    "\n",
    "class DGLGDEFunc(nn.Module):\n",
    "    def __init__(\n",
    "        self, \n",
    "        gnn:nn.Module, \n",
    "        augment:bool=False, \n",
    "        augment_size:int=2\n",
    "    ):\n",
    "        \"\"\"General GDE function class. To be passed to an ODEBlock\"\"\"\n",
    "        super().__init__()\n",
    "        self.gnn = gnn\n",
    "        \n",
    "        # Number of function calls\n",
    "        self.nfe = 0\n",
    "        \n",
    "        # Whether or not to augment input tensor x\n",
    "        self.augment = augment\n",
    "        \n",
    "        # Dimensions of 0s to augment x with (as well as the time vector t)\n",
    "        self.augment_size = augment_size\n",
    "    \n",
    "    def set_graph(self, g:dgl.DGLGraph):\n",
    "        for layer in self.gnn:\n",
    "            layer.g = g\n",
    "            \n",
    "    def forward(self, t, x):\n",
    "        self.nfe += 1\n",
    "        \n",
    "        x = augment_with_time(x, t, self.augment_size, self.augment)  \n",
    "        \n",
    "        # NOTE: technically dxdt\n",
    "        x = self.gnn(x)\n",
    "        return x"
   ]
  },
  {
   "cell_type": "code",
   "execution_count": null,
   "metadata": {},
   "outputs": [],
   "source": [
    "#| hide\n",
    "import nbdev; nbdev.nbdev_export()"
   ]
  }
 ],
 "metadata": {
  "kernelspec": {
   "display_name": "python3",
   "language": "python",
   "name": "python3"
  }
 },
 "nbformat": 4,
 "nbformat_minor": 4
}
