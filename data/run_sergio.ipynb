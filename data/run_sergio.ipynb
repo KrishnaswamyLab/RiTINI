{
 "cells": [
  {
   "cell_type": "code",
   "execution_count": 1,
   "metadata": {},
   "outputs": [],
   "source": [
    "import numpy as np\n",
    "import pandas as pd\n",
    "from sergio import sergio"
   ]
  },
  {
   "cell_type": "markdown",
   "metadata": {},
   "source": [
    "### Dataset"
   ]
  },
  {
   "cell_type": "code",
   "execution_count": 2,
   "metadata": {},
   "outputs": [],
   "source": [
    "dataset = {\n",
    "    \"DS9\": {\n",
    "            \"number_genes\": 100,\n",
    "            \"number_bins\" : 3,\n",
    "            \"number_sc\": 300,\n",
    "            \"bifurcation_matrix\": \"data/DS9/bMat_cID9.tab\",\n",
    "            \"GRN\": \"data/DS9/Interaction_cID_9.txt\",\n",
    "            \"master_regulator_prod_rate\": \"data/DS9/Regs_cID_9.txt\",\n",
    "            \"save_location\": \"data/DS9/SERGIO_sim_DS9.npy\"\n",
    "            },\n",
    "    \"DS10\": {\n",
    "            \"number_genes\": 100,\n",
    "            \"number_bins\" : 4,\n",
    "            \"number_sc\": 300,\n",
    "            \"bifurcation_matrix\": \"data/DS10/bMat_cID10.tab\",\n",
    "            \"GRN\": \"data/DS10/Interaction_cID_10.txt\",\n",
    "            \"master_regulator_prod_rate\": \"data/DS10/Regs_cID_10.txt\",\n",
    "            \"save_location\": \"data/DS10/SERGIO_sim_DS10.npy\"\n",
    "            },\n",
    "    \"DS12\": {\n",
    "            \"number_genes\": 100,\n",
    "            \"number_bins\" : 7,\n",
    "            \"number_sc\": 300,\n",
    "            \"bifurcation_matrix\": \"data/DS12/bMat_cID12.tab\",\n",
    "            \"GRN\": \"data/DS12/Interaction_cID_12.txt\",\n",
    "            \"master_regulator_prod_rate\": \"data/DS12/Regs_cID_12.txt\",\n",
    "            \"save_location\": \"data/DS12/SERGIO_sim_DS12.npy\"\n",
    "            }\n",
    "}"
   ]
  },
  {
   "cell_type": "markdown",
   "metadata": {},
   "source": [
    "### Steady-State Simulation"
   ]
  },
  {
   "cell_type": "code",
   "execution_count": 3,
   "metadata": {},
   "outputs": [],
   "source": [
    "sim_id = \"DS10\""
   ]
  },
  {
   "cell_type": "code",
   "execution_count": 4,
   "metadata": {},
   "outputs": [],
   "source": [
    "sim = sergio(number_genes = dataset[sim_id][\"number_genes\"], \n",
    "             number_bins = dataset[sim_id][\"number_bins\"], \n",
    "             number_sc = dataset[sim_id][\"number_sc\"],  \n",
    "             noise_params = 0.1, \n",
    "             decays = 0.8, \n",
    "             sampling_state = 15, \n",
    "             noise_type = 'dpd')"
   ]
  },
  {
   "cell_type": "code",
   "execution_count": 5,
   "metadata": {},
   "outputs": [
    {
     "name": "stdout",
     "output_type": "stream",
     "text": [
      "Start simulating new level\n",
      "There are 3 genes to simulate in this layer\n",
      "Done with current level\n",
      "Start simulating new level\n",
      "There are 7 genes to simulate in this layer\n",
      "Done with current level\n",
      "Start simulating new level\n",
      "There are 90 genes to simulate in this layer\n",
      "Done with current level\n"
     ]
    }
   ],
   "source": [
    "sim.build_graph(dataset[sim_id][\"GRN\"], \n",
    "                input_file_regs = dataset[sim_id][\"master_regulator_prod_rate\"], \n",
    "                shared_coop_state = 2)\n",
    "sim.simulate()\n",
    "expr = sim.getExpressions()\n",
    "expr_clean = np.concatenate(expr, axis = 1)"
   ]
  },
  {
   "cell_type": "markdown",
   "metadata": {
    "collapsed": true
   },
   "source": [
    "### Steady-State Simulation (add noise)"
   ]
  },
  {
   "cell_type": "code",
   "execution_count": 6,
   "metadata": {},
   "outputs": [],
   "source": [
    "\"\"\"\n",
    "Add outlier genes\n",
    "\"\"\"\n",
    "expr_O = sim.outlier_effect(expr, outlier_prob = 0.01, mean = 0.8, scale = 1)\n",
    "\n",
    "\"\"\"\n",
    "Add Library Size Effect\n",
    "\"\"\"\n",
    "libFactor, expr_O_L = sim.lib_size_effect(expr_O, mean = 4.6, scale = 0.4)\n",
    "\n",
    "\"\"\"\n",
    "Add Dropouts\n",
    "\"\"\"\n",
    "binary_ind = sim.dropout_indicator(expr_O_L, shape = 6.5, percentile = 82)\n",
    "expr_O_L_D = np.multiply(binary_ind, expr_O_L)\n",
    "\n",
    "\"\"\"\n",
    "Convert to UMI count\n",
    "\"\"\"\n",
    "count_matrix = sim.convert_to_UMIcounts(expr_O_L_D)\n",
    "\n",
    "\"\"\"\n",
    "Make a 2d gene expression matrix\n",
    "\"\"\"\n",
    "count_matrix = np.concatenate(count_matrix, axis = 1)"
   ]
  },
  {
   "cell_type": "markdown",
   "metadata": {},
   "source": [
    "### Differentiation Simulation (without noise)"
   ]
  },
  {
   "cell_type": "code",
   "execution_count": 7,
   "metadata": {},
   "outputs": [],
   "source": [
    "df = pd.read_csv(dataset[sim_id][\"bifurcation_matrix\"], \n",
    "                 sep='\\t', header=None, index_col=None)\n",
    "bMat = df.values\n",
    "\n",
    "sim = sergio(number_genes = dataset[sim_id][\"number_genes\"], \n",
    "             number_bins = dataset[sim_id][\"number_bins\"], \n",
    "             number_sc = dataset[sim_id][\"number_sc\"], \n",
    "             noise_params = 0.2, \n",
    "             decays = 0.8, \n",
    "             sampling_state = 1, \n",
    "             noise_params_splice = 0.07, \n",
    "             noise_type = 'dpd', \n",
    "             dynamics = True, \n",
    "             bifurcation_matrix = bMat)\n",
    "\n",
    "sim.build_graph(dataset[sim_id][\"GRN\"], \n",
    "                input_file_regs = dataset[sim_id][\"master_regulator_prod_rate\"], \n",
    "                shared_coop_state = 2)"
   ]
  },
  {
   "cell_type": "code",
   "execution_count": 8,
   "metadata": {},
   "outputs": [
    {
     "name": "stdout",
     "output_type": "stream",
     "text": [
      "Start simulating new cell type\n",
      "binID: 0\n",
      "number of initial cells: 25\n",
      "Done with current cell type\n",
      "Start simulating new cell type\n",
      "binID: 1\n",
      "number of initial cells: 27\n",
      "Done with current cell type\n",
      "Start simulating new cell type\n",
      "binID: 3\n",
      "number of initial cells: 300\n",
      "Done with current cell type\n",
      "Start simulating new cell type\n",
      "binID: 2\n",
      "number of initial cells: 27\n",
      "Done with current cell type\n"
     ]
    }
   ],
   "source": [
    "sim.simulate_dynamics()\n",
    "exprU, exprS = sim.getExpressions_dynamics()\n",
    "exprU_clean = np.concatenate(exprU, axis = 1)\n",
    "exprS_clean = np.concatenate(exprS, axis = 1)"
   ]
  },
  {
   "cell_type": "markdown",
   "metadata": {},
   "source": [
    "### Differentiation Simulation (add noise)"
   ]
  },
  {
   "cell_type": "code",
   "execution_count": 9,
   "metadata": {},
   "outputs": [],
   "source": [
    "\"\"\"\n",
    "Add outlier genes\n",
    "\"\"\"\n",
    "exprU_O, exprS_O = sim.outlier_effect_dynamics(exprU, exprS, outlier_prob = 0.01, mean = 0.8, scale = 1)\n",
    "\n",
    "\"\"\"\n",
    "Add Library Size Effect\n",
    "\"\"\"\n",
    "libFactor, exprU_O_L, exprS_O_L = sim.lib_size_effect_dynamics(exprU_O, exprS_O, mean = 4.6, scale = 0.4)\n",
    "\n",
    "\"\"\"\n",
    "Add Dropouts\n",
    "\"\"\"\n",
    "binary_indU, binary_indS = sim.dropout_indicator_dynamics(exprU_O_L, exprS_O_L, shape = 6.5, percentile = 82)\n",
    "exprU_O_L_D = np.multiply(binary_indU, exprU_O_L)\n",
    "exprS_O_L_D = np.multiply(binary_indS, exprS_O_L)\n",
    "\n",
    "\"\"\"\n",
    "Convert to UMI count\n",
    "\"\"\"\n",
    "count_matrix_U, count_matrix_S = sim.convert_to_UMIcounts_dynamics(exprU_O_L_D, exprS_O_L_D)\n",
    "\n",
    "\"\"\"\n",
    "Make 2d spliced and unspliced expression matrices\n",
    "\"\"\"\n",
    "count_matrix_U = np.concatenate(count_matrix_U, axis = 1)\n",
    "count_matrix_S = np.concatenate(count_matrix_S, axis = 1)"
   ]
  },
  {
   "cell_type": "code",
   "execution_count": 10,
   "metadata": {},
   "outputs": [],
   "source": [
    "sim_data = {\"steady_state_expr\": expr,\n",
    "            \"steady_state_expr_noisy\": count_matrix,\n",
    "            \"unspliced_expr\": exprU,\n",
    "            \"spliced_expr\": exprS,\n",
    "            \"unspliced_expr_noisy\": count_matrix_U,\n",
    "            \"spliced_expr_noisy\": count_matrix_S\n",
    "           } \n",
    "\n",
    "np.save(dataset[sim_id][\"save_location\"], sim_data)"
   ]
  },
  {
   "cell_type": "code",
   "execution_count": null,
   "metadata": {},
   "outputs": [],
   "source": []
  }
 ],
 "metadata": {
  "@webio": {
   "lastCommId": "0b276de9b6374ec18d10ac7bdde5762a",
   "lastKernelId": "7bdd30d1-9a06-4ac8-a62b-84500fd7a18f"
  },
  "kernelspec": {
   "display_name": "Python 2",
   "language": "python",
   "name": "python2"
  },
  "language_info": {
   "codemirror_mode": {
    "name": "ipython",
    "version": 2
   },
   "file_extension": ".py",
   "mimetype": "text/x-python",
   "name": "python",
   "nbconvert_exporter": "python",
   "pygments_lexer": "ipython2",
   "version": "2.7.15"
  }
 },
 "nbformat": 4,
 "nbformat_minor": 2
}
